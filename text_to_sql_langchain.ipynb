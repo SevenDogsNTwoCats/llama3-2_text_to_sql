{
 "cells": [
  {
   "cell_type": "code",
   "execution_count": 17,
   "metadata": {},
   "outputs": [],
   "source": [
    "from langchain_community.llms import Ollama\n",
    "llm = Ollama(model = \"llama3.2\")"
   ]
  },
  {
   "cell_type": "code",
   "execution_count": 18,
   "metadata": {},
   "outputs": [],
   "source": [
    "# from langchain_community.utilities import SQLDatabase\n",
    "# db = SQLDatabase.from_uri(\"sqlite:///chinook.db\", sample_rows_in_table_info = 3)\n",
    "\n",
    "from langchain_community.utilities import SQLDatabase\n",
    "import os\n",
    "from dotenv import load_dotenv\n",
    "\n",
    "# Cargar las variables de entorno desde el archivo .env\n",
    "load_dotenv()\n",
    "\n",
    "# Parámetros de conexión a MySQL\n",
    "user = os.getenv(\"USER\")\n",
    "password = os.getenv(\"PASSWORD\")\n",
    "host = os.getenv(\"HOST\")  # O el host donde esté tu base de datos\n",
    "port = os.getenv(\"PORT\")  # El puerto estándar de MySQL\n",
    "database = os.getenv(\"DATABASE\")\n",
    "\n",
    "# Crear la URI de conexión para MySQL\n",
    "uri = f\"mysql+mysqlconnector://{user}:{password}@{host}:{port}/{database}\"\n",
    "\n",
    "# Conectar a la base de datos MySQL\n",
    "db = SQLDatabase.from_uri(uri, sample_rows_in_table_info=3)\n"
   ]
  },
  {
   "cell_type": "code",
   "execution_count": 19,
   "metadata": {},
   "outputs": [],
   "source": [
    "prompt = [\n",
    "  \"input: ¿Cuáles son los códigos de alarma que más se repiten en los medidores?\",\n",
    "  \"output: SELECT ALARM_CODE, COUNT(*) AS frecuencia FROM pnrp.airflow_hexing_alarmas GROUP BY ALARM_CODE ORDER BY frecuencia DESC;\",\n",
    "  \"input: ¿Qué medidores han generado alarmas en los últimos 7 días?\",\n",
    "  \"output: SELECT MEDIDOR, ALARM_CODE, ALARM_DESC, FECHA FROM pnrp.airflow_hexing_alarmas WHERE FECHA >= CURDATE() - INTERVAL 7 DAY;\",\n",
    "  \"input: ¿Qué alarmas ha generado el medidor 123456 en el último mes?\",\n",
    "  \"output: SELECT ALARM_CODE, ALARM_DESC, FECHA FROM pnrp.airflow_hexing_alarmas WHERE MEDIDOR = '123456' AND FECHA >= CURDATE() - INTERVAL 1 MONTH;\",\n",
    "  \"input: ¿Cuántas veces se ha registrado la alarma 'Watchdog Error' en todos los medidores?\",\n",
    "  \"output: SELECT COUNT(*) AS frecuencia FROM pnrp.airflow_hexing_alarmas WHERE ALARM_DESC = 'Watchdog Error';\",\n",
    "  \"input: ¿Cuántos medidores en el circuito BVI211 presentan la alarma 'Terminal Cover Opened'?\",\n",
    "  \"output: SELECT MEDIDOR, COUNT(*) AS frecuencia FROM pnrp.airflow_hexing_alarmas WHERE CLAVE IN (SELECT u.CLAVE_CATALOGO FROM pnrp.airflow_hexing_universo u WHERE u.CIRCUITO = 'BVI211') AND ALARM_DESC = 'Terminal Cover Opened' GROUP BY MEDIDOR;\",\n",
    "  \"input: ¿Con qué frecuencia se ha registrado cada alarma en el último mes?\",\n",
    "  \"output: SELECT ALARM_DESC, COUNT(*) AS frecuencia FROM pnrp.airflow_hexing_alarmas WHERE FECHA >= CURDATE() - INTERVAL 1 MONTH GROUP BY ALARM_DESC;\",\n",
    "  \"input: ¿Con qué frecuencia se ha registrado cada alarma en el circuito BVI211 en el último mes?\",\n",
    "  \"output: SELECT a.ALARM_DESC, COUNT(*) AS frecuencia FROM pnrp.airflow_hexing_alarmas a JOIN pnrp.airflow_hexing_universo u ON a.CLAVE = u.CLAVE_CATALOGO WHERE u.CIRCUITO = 'BVI211' AND a.FECHA >= CURDATE() - INTERVAL 1 MONTH GROUP BY a.ALARM_DESC;\",\n",
    "  \"input: ¿Cuantas veces se ha registrado la alarma 'Terminal Cover Opened' en el circuito BVI211 en el último mes?\",\n",
    "  \"output: SELECT COUNT(*) AS frecuencia FROM pnrp.airflow_hexing_alarmas a JOIN pnrp.airflow_hexing_universo u ON a.CLAVE = u.CLAVE_CATALOGO WHERE u.CIRCUITO = 'BVI211' AND a.ALARM_DESC = 'Terminal Cover Opened' AND a.FECHA >= CURDATE() - INTERVAL 1 MONTH;\",\n",
    "  \"input: ¿Con qué frecuencia se ha registrado la alarma 'Terminal Cover Opened' en el circuito BVI211 en el último mes y cuántos medidores la han presentado?\",\n",
    "  \"output: SELECT COUNT(*) AS frecuencia, COUNT(DISTINCT a.MEDIDOR) AS medidores_presentes FROM pnrp.airflow_hexing_alarmas a JOIN pnrp.airflow_hexing_universo u ON a.CLAVE = u.CLAVE_CATALOGO WHERE u.CIRCUITO = 'BVI211' AND a.ALARM_DESC = 'Terminal Cover Opened' AND a.FECHA >= CURDATE() - INTERVAL 1 MONTH;\",\n",
    "  \"input: ¿Cuántas veces han presentado los medidor la alarma 'Terminal Cover Opened' en el circuito BVI211 en el último mes?\",\n",
    "  \"output: SELECT a.MEDIDOR, COUNT(*) AS frecuencia FROM pnrp.airflow_hexing_alarmas a JOIN pnrp.airflow_hexing_universo u ON a.CLAVE = u.CLAVE_CATALOGO WHERE u.CIRCUITO = 'BVI211' AND a.ALARM_DESC = 'Terminal Cover Opened' AND a.FECHA >= CURDATE() - INTERVAL 1 MONTH GROUP BY a.MEDIDOR;\",\n",
    "  \"input: ¿Cuántos medidores hay en el circuito BVI211?\",\n",
    "  \"output: SELECT COUNT(DISTINCT CLAVE_CATALOGO) AS total_medidores FROM pnrp.airflow_hexing_universo WHERE CIRCUITO = 'BVI211';\",\n",
    "  \"input: ¿Cuántos medidores hay en el circuito BVI211 y cuántas veces ha presentado cada uno la alarma 'Terminal Cover Opened'?\",\n",
    "  \"output: SELECT (SELECT COUNT(DISTINCT u.CLAVE_CATALOGO) FROM pnrp.airflow_hexing_universo u WHERE u.CIRCUITO = 'BVI211') AS Total_Medidores, a.MEDIDOR, COUNT(*) AS Frecuencia FROM pnrp.airflow_hexing_alarmas a JOIN pnrp.airflow_hexing_universo u ON a.CLAVE = u.CLAVE_CATALOGO WHERE u.CIRCUITO = 'BVI211' AND a.ALARM_DESC = 'Terminal Cover Opened' GROUP BY a.MEDIDOR;\",\n",
    "  \"input: ¿Cuántos medidores hay en el circuito 12348A y cuántas veces ha presentado cada uno la alarma 'Power Failure' en el último mes?\",\n",
    "  \"output: SELECT (SELECT COUNT(DISTINCT u.CLAVE_CATALOGO) FROM pnrp.airflow_hexing_universo u WHERE u.CIRCUITO = '12348A') AS Total_Medidores, a.MEDIDOR, COUNT(*) AS Frecuencia FROM pnrp.airflow_hexing_alarmas a JOIN pnrp.airflow_hexing_universo u ON a.CLAVE = u.CLAVE_CATALOGO WHERE u.CIRCUITO = '12348A' AND a.ALARM_DESC = 'Power Failure' AND a.FECHA >= CURDATE() - INTERVAL 1 MONTH GROUP BY a.MEDIDOR;\",\n",
    "  \"input: ¿Cuántos medidores hay en el circuito 12348A y cuántas veces ha presentado cada uno la alarma 'Voltage Unbalance' en los últimos 15 días?\",\n",
    "  \"output: SELECT (SELECT COUNT(DISTINCT u.CLAVE_CATALOGO) FROM pnrp.airflow_hexing_universo u WHERE u.CIRCUITO = '12348A') AS Total_Medidores, a.MEDIDOR, COUNT(*) AS Frecuencia FROM pnrp.airflow_hexing_alarmas a JOIN pnrp.airflow_hexing_universo u ON a.CLAVE = u.CLAVE_CATALOGO WHERE u.CIRCUITO = '12348A' AND a.ALARM_DESC = 'Voltage Unbalance' AND a.FECHA >= CURDATE() - INTERVAL 15 DAY GROUP BY a.MEDIDOR;\",\n",
    "  \"input: ¿Cuántos medidores hay en el circuito 12348A y cuántas veces ha presentado cada uno la alarma 'Overcurrent' en la última semana?\",\n",
    "  \"output: SELECT (SELECT COUNT(DISTINCT u.CLAVE_CATALOGO) FROM pnrp.airflow_hexing_universo u WHERE u.CIRCUITO = '12348A') AS Total_Medidores, a.MEDIDOR, COUNT(*) AS Frecuencia FROM pnrp.airflow_hexing_alarmas a JOIN pnrp.airflow_hexing_universo u ON a.CLAVE = u.CLAVE_CATALOGO WHERE u.CIRCUITO = '12348A' AND a.ALARM_DESC = 'Overcurrent' AND a.FECHA >= CURDATE() - INTERVAL 7 DAY GROUP BY a.MEDIDOR;\",\n",
    "  \"input: ¿Cuántas órdenes de servicio hay en el circuito BVI211 en el último mes?\",\n",
    "  \"output: SELECT COUNT(*) AS Total_OS FROM pnrp.airflow_hexing_os AS os JOIN pnrp.airflow_hexing_universo AS u ON os.CLAVE = u.CLAVE_CATALOGO WHERE u.CIRCUITO = 'BVI211' AND os.FECHA_GENERADA >= CURDATE() - INTERVAL 1 MONTH;\",\n",
    "  \"input: ¿Qué medidores hay en el circuito BVI211 y cuántas órdenes de servicio tiene cada uno en el último mes?\",\n",
    "  \"output: SELECT u.CLAVE_CATALOGO AS Medidor, COUNT(os.OS) AS Total_OS FROM pnrp.airflow_hexing_os AS os JOIN pnrp.airflow_hexing_universo AS u ON os.CLAVE = u.CLAVE_CATALOGO WHERE u.CIRCUITO = 'BVI211' AND os.FECHA_GENERADA >= CURDATE() - INTERVAL 1 MONTH GROUP BY u.CLAVE_CATALOGO;\",\n",
    "  \"input: ¿Qué medidores hay en el circuito BVI211 con orden de servicio en el último mes?\",\n",
    "  \"output: SELECT os.*, u.CLAVE_CATALOGO AS Medidor FROM pnrp.airflow_hexing_os AS os JOIN pnrp.airflow_hexing_universo AS u ON os.CLAVE = u.CLAVE_CATALOGO WHERE u.CIRCUITO = 'BVI211' AND os.FECHA_GENERADA >= CURDATE() - INTERVAL 1 MONTH;\",\n",
    "  \"input: ¿Cuáles los tickets para el circuito 'BVI211'?\",\n",
    "  \"output: SELECT * FROM pnrp.bitacora_ac WHERE CIRCUITO = 'BVI211';\",\n",
    "  \"input: ¿Quiénes son los analistas que han trabajado en el circuito 'BVI213'?\",\n",
    "  \"output: SELECT DISTINCT ANALISTA FROM pnrp.bitacora_ac WHERE CIRCUITO = 'BVI213';\",\n",
    "  \"input: ¿Cuáles son los tickets con no conformidad 'Falta de lectura' en el circuito 'BVI211'?\",\n",
    "  \"output: SELECT TICKET, NO_CONFORMIDAD, FECHA_REGISTRO FROM pnrp.bitacora_ac WHERE CIRCUITO = 'BVI211' AND MARCA = 'HEXING' AND NO_CONFORMIDAD = 'Falta de lectura';\",\n",
    "  \"input: ¿Cuáles son los registros de análisis en el circuito 'BVI214' entre el 01-01-2024 y el 31-01-2024?\",\n",
    "  \"output: SELECT * FROM pnrp.bitacora_ac WHERE CIRCUITO = 'BVI214' AND FECHA_ANALISIS BETWEEN '2024-01-01' AND '2024-01-31';\",\n",
    "  \"input: ¿Qué alarmas tiene el medidor 'MEDIDOR123' en el periodo de análisis definido en la bitácora para el circuito 'BVI211'?\",\n",
    "  \"output: SELECT a.*, b.PERIODO_INICIAL, b.PERIODO_FINAL FROM pnrp.airflow_hexing_alarmas a JOIN pnrp.bitacora_ac b ON a.MEDIDOR = 'MEDIDOR123' WHERE a.FECHA >= b.PERIODO_INICIAL AND a.FECHA <= b.PERIODO_FINAL AND b.CIRCUITO = 'BVI211';\",\n",
    "  \"input: ¿Cuáles son las alarmas registradas en el circuito 'BVI212' para el medidor 'MEDIDOR456' durante el periodo definido en la bitácora?\",\n",
    "  \"output: SELECT a.*, b.PERIODO_INICIAL, b.PERIODO_FINAL FROM pnrp.airflow_hexing_alarmas a JOIN pnrp.bitacora_ac b ON a.MEDIDOR = 'MEDIDOR456' WHERE a.FECHA >= b.PERIODO_INICIAL AND a.FECHA <= b.PERIODO_FINAL AND b.CIRCUITO = 'BVI212';\",\n",
    "  \"input: ¿Qué alarmas tiene el medidor 'MEDIDOR789' durante su periodo de análisis para el circuito 'BVI213'?\",\n",
    "  \"output: SELECT a.*, b.PERIODO_INICIAL, b.PERIODO_FINAL FROM pnrp.airflow_hexing_alarmas a JOIN pnrp.bitacora_ac b ON a.MEDIDOR = '2023109007594' WHERE a.FECHA >= b.PERIODO_INICIAL AND a.FECHA <= b.PERIODO_FINAL;\",\n",
    "  \"input: ¿Cuáles son las últimas alarmas del medidor 12345?\",\n",
    "  \"output: SELECT CLAVE, MEDIDOR, ALARM_CODE, ALARM_DESC, FECHA FROM pnrp.airflow_hexing_alarmas WHERE MEDIDOR = '12345' ORDER BY FECHA DESC LIMIT 20;\",\n",
    "  \"input: Dame las órdenes de servicio del cliente 54321\",\n",
    "  \"output: SELECT OS, CLAVE, ESTADO, CATEGORIA, DESCRIPCION_OS, FECHA_GENERADA, FECHA_EJECUCION FROM pnrp.airflow_hexing_os WHERE CLAVE = '54321';\",\n",
    "  \"input: Borra todas las entradas de la tabla bitacora_ac\",\n",
    "  \"output: SELECT 'No puedo ejecutar esa acción' as ERROR;\",\n",
    "  \"input: Actualiza todas las entradas de la tabla airflow_hexing_alarmas a valores null\",\n",
    "  \"output: SELECT 'No puedo ejecutar esa acción' as ERROR;\",\n",
    "  \"input: ¿Qué alarmas tiene el medidor 67890 y dame solo los primeros 5?\",\n",
    "  \"output: SELECT CLAVE, MEDIDOR, ALARM_CODE, ALARM_DESC, FECHA FROM pnrp.airflow_hexing_alarmas WHERE MEDIDOR = '67890' ORDER BY FECHA DESC LIMIT 5;\",\n",
    "  \"input: Dame todas las lecturas de medidores que empezaron a fallar\",\n",
    "  \"output: SELECT 'No puedo responder a esa pregunta' as ERROR;\",\n",
    "  \"input: Dame las últimas 10 lecturas del medidor 98765\",\n",
    "  \"output: SELECT CLAVE, MEDIDOR, FECHA, LECTURA FROM pnrp.airflow_hexing_ulti_comu WHERE MEDIDOR = '98765' ORDER BY FECHA DESC LIMIT 10;\",\n",
    "  \"input: ¿Cuántas alarmas se han reportado para el medidor 24680?\",\n",
    "  \"output: SELECT COUNT(*) FROM pnrp.airflow_hexing_alarmas WHERE MEDIDOR = '24680';\",\n",
    "  \"input: Dame las órdenes de servicio para el cliente con clave 123456\",\n",
    "  \"output: SELECT OS, CLAVE, ESTADO, CATEGORIA, DESCRIPCION_OS, FECHA_GENERADA, FECHA_EJECUCION FROM pnrp.airflow_hexing_os WHERE CLAVE = '123456';\",\n",
    "  \"input: Muéstrame las alarmas de los últimos 5 días para el medidor 1234\",\n",
    "  \"output: SELECT CLAVE, MEDIDOR, ALARM_CODE, ALARM_DESC, FECHA FROM pnrp.airflow_hexing_alarmas WHERE MEDIDOR = '12345' AND FECHA >= DATE_SUB(CURDATE(), INTERVAL 5 DAY) ORDER BY FECHA DESC LIMIT 20;\",\n",
    "  \"input: Quiero ver el número de ticket del cliente con clave 654321, una explicación\",\n",
    "  \"output: SELECT TICKET, CLAVE, NO_CONFORMIDAD, REQUIERE_OS, COMENTARIO_ANALISTA, ES_RECURRENTE, ANOMALIA, CIRCUITO, ESTADO FROM pnrp.bitacora_ac WHERE CLAVE = '654321';\", \n",
    "]\n",
    "\n",
    "# Inicializar el array de JSON\n",
    "queries = []\n",
    "\n",
    "# Iterar sobre los elementos del array de dos en dos (pares de input y output)\n",
    "for i in range(0, len(prompt), 2):\n",
    "    input_str = prompt[i].replace(\"input: \", \"\").strip()  # Limpiar el texto 'input:'\n",
    "    output_str = prompt[i + 1].replace(\"output: \", \"\").strip()  # Limpiar el texto 'output:'\n",
    "    \n",
    "    # Crear el objeto JSON\n",
    "    query = {\n",
    "        \"input\": input_str,\n",
    "        \"query\": output_str\n",
    "    }\n",
    "    \n",
    "    # Añadir al array\n",
    "    queries.append(query)\n",
    "\n",
    "examples = queries"
   ]
  },
  {
   "cell_type": "code",
   "execution_count": 20,
   "metadata": {},
   "outputs": [],
   "source": [
    "from langchain_community.embeddings import OllamaEmbeddings\n",
    "embeddings = (\n",
    "    OllamaEmbeddings(model = \"llama3.2:1b\")\n",
    ")"
   ]
  },
  {
   "cell_type": "code",
   "execution_count": 21,
   "metadata": {},
   "outputs": [],
   "source": [
    "from langchain_community.vectorstores import FAISS\n",
    "from langchain_core.example_selectors import SemanticSimilarityExampleSelector\n",
    "\n",
    "example_selector = SemanticSimilarityExampleSelector.from_examples(\n",
    "    examples,\n",
    "    embeddings,\n",
    "    FAISS,\n",
    "    k=3,\n",
    "    input_keys=[\"input\"],\n",
    ")"
   ]
  },
  {
   "cell_type": "code",
   "execution_count": 22,
   "metadata": {},
   "outputs": [],
   "source": [
    "from langchain_community.tools.sql_database.tool import QuerySQLDataBaseTool, InfoSQLDatabaseTool, ListSQLDatabaseTool, QuerySQLCheckerTool\n",
    "\n",
    "sql_db_query =  QuerySQLDataBaseTool(db = db)\n",
    "sql_db_schema =  InfoSQLDatabaseTool(db = db)\n",
    "sql_db_list_tables =  ListSQLDatabaseTool(db = db)\n",
    "sql_db_query_checker = QuerySQLCheckerTool(db = db, llm = llm)\n",
    "\n",
    "tools = [sql_db_query, sql_db_schema, sql_db_list_tables, sql_db_query_checker]"
   ]
  },
  {
   "cell_type": "code",
   "execution_count": 23,
   "metadata": {},
   "outputs": [],
   "source": [
    "system_prefix = \"\"\"\n",
    "Answer the following questions as best you can. You have access to the following tools:\n",
    "\n",
    "{tools}\n",
    "\n",
    "Use the following format:\n",
    "\n",
    "Question: the input question you must answer\n",
    "Thought: you should always think about what to do\n",
    "Action: the action to take, should be one of [{tool_names}]\n",
    "Action Input: the input to the action\n",
    "Observation: the result of the action\n",
    "... (this Thought/Action/Action Input/Observation can repeat N times)\n",
    "Thought: I now know the final answer\n",
    "Final Answer: the final answer to the original input question\n",
    "\n",
    "Here are some examples of user inputs and their corresponding SQL queries:\n",
    "\n",
    "\"\"\"\n",
    "\n",
    "suffix = \"\"\"\n",
    "Begin!\n",
    "\n",
    "Question: {input}\n",
    "Thought:{agent_scratchpad}\n",
    "\"\"\""
   ]
  },
  {
   "cell_type": "code",
   "execution_count": 24,
   "metadata": {},
   "outputs": [],
   "source": [
    "from langchain_core.prompts import FewShotPromptTemplate, PromptTemplate, ChatPromptTemplate\n",
    "from langchain_core.prompts import SystemMessagePromptTemplate\n",
    "\n",
    "dynamic_few_shot_prompt_template = FewShotPromptTemplate(\n",
    "    example_selector = example_selector,\n",
    "    example_prompt=PromptTemplate.from_template(\n",
    "        \"User input: {input}\\nSQL query: {query}\"\n",
    "    ),\n",
    "    input_variables=[\"input\"],\n",
    "    prefix=system_prefix,\n",
    "    suffix=suffix\n",
    ")\n",
    "\n",
    "full_prompt = ChatPromptTemplate.from_messages(\n",
    "    [\n",
    "        SystemMessagePromptTemplate(prompt=dynamic_few_shot_prompt_template),\n",
    "    ]\n",
    ")"
   ]
  },
  {
   "cell_type": "code",
   "execution_count": 25,
   "metadata": {},
   "outputs": [],
   "source": [
    "def run_prompt(input_str):\n",
    "    prompt_val = full_prompt.invoke(\n",
    "        {\n",
    "            \"input\": input_str,\n",
    "            \"tool_names\" : [tool.name for tool in tools],\n",
    "            \"tools\" : [tool.name + \" - \" + tool.description.strip() for tool in tools],\n",
    "            \"agent_scratchpad\": [],\n",
    "        }\n",
    "    )\n",
    "\n",
    "    output_string = prompt_val.to_string()\n",
    "\n",
    "    # Extraer la consulta SQL utilizando una búsqueda de texto\n",
    "    # Busca la línea que comienza con \"SQL query:\" y extrae el texto siguiente.\n",
    "    sql_query = \"\"\n",
    "    lines = output_string.split('\\n')\n",
    "    for line in lines:\n",
    "        if line.startswith(\"SQL query:\"):\n",
    "            sql_query = line.split(\"SQL query:\")[1].strip()  # Obtener la consulta SQL\n",
    "            break\n",
    "    return sql_query\n"
   ]
  },
  {
   "cell_type": "code",
   "execution_count": 26,
   "metadata": {},
   "outputs": [],
   "source": [
    "def consultar_sql(sql_query):\n",
    "    try:\n",
    "        # Ejecutar la consulta y obtener los resultados\n",
    "        result = db.run(sql_query)\n",
    "        return result\n",
    "    except Exception as e:\n",
    "        return f\"Ha ocurrido un error: {str(e)}\"\n"
   ]
  },
  {
   "cell_type": "code",
   "execution_count": 27,
   "metadata": {},
   "outputs": [
    {
     "name": "stdout",
     "output_type": "stream",
     "text": [
      "SELECT u.CLAVE_CATALOGO AS Medidor, COUNT(os.OS) AS Total_OS FROM pnrp.airflow_hexing_os AS os JOIN pnrp.airflow_hexing_universo AS u ON os.CLAVE = u.CLAVE_CATALOGO WHERE u.CIRCUITO = 'BVI211' AND os.FECHA_GENERADA >= CURDATE() - INTERVAL 1 MONTH GROUP BY u.CLAVE_CATALOGO;\n",
      "[('1005203', 1), ('1673164', 1), ('2028220', 1)]\n"
     ]
    }
   ],
   "source": [
    "# Generar consulta\n",
    "input_str = \"¿Qué medidores hay en el circuito BVI211 y cuántas órdenes de servicio tiene cada uno en el último mes?\"\n",
    "query = run_prompt(input_str)\n",
    "print(query)\n",
    "result = consultar_sql(query)\n",
    "print(result)"
   ]
  },
  {
   "cell_type": "code",
   "execution_count": 31,
   "metadata": {},
   "outputs": [
    {
     "name": "stdout",
     "output_type": "stream",
     "text": [
      "\n",
      "Model response:\n",
      "    Puedes especificar la pregunta o la consulta de la base de datos para obtener una respuesta.\n",
      "Result:\n",
      "    [('1005203', 26001717, 'REVISION MEDIDA ESPECIAL SEMI                                                                       ', 'EJECUTADA EN TERRENO                    ', None, None, '2024-10-07', '2024-10-09', '1005203'), ('1673164', 25830673, '* GENERICA                                                                                          ', 'RESOLVER EN ESCRITORIO                  ', None, None, '2024-09-24', None, '1673164'), ('2028220', 25987343, 'REVISION DE LA SUSPENSION                                                                           ', 'EJECUTADA EN TERRENO                    ', 'SERVICIO DIRECTO CON FACTURACIÓN', 'SERVICIO DIRECTO CON FACTURACIÓN', '2024-10-07', '2024-10-09', '2028220')]      \n",
      "\n"
     ]
    }
   ],
   "source": [
    "from langchain_community.llms import Ollama\n",
    "from langchain_core.messages import HumanMessage, SystemMessage\n",
    "\n",
    "\n",
    "llm = Ollama(model=\"llama3.2\")\n",
    "\n",
    "input_str = \"Que os tiene la clave 2008373?\"\n",
    "\n",
    "\n",
    "query = run_prompt(input_str)\n",
    "result = consultar_sql(query)\n",
    "messages = [\n",
    "    SystemMessage(\n",
    "        content=\"\"\"Eres un analista de datos y te han asignado la tarea de analizar la base de datos de alarmas de medidores de energía.\n",
    "                Interpreta los resultados de la consulta SQL y responde a la pregunta:\n",
    "\n",
    "                Solo debes responder a la pregunta, no es que expliques el código de la consulta SQL, sin embargo es necesario que respondas la pregunta interpretando el resultado. Ejemplo: \"Cuantos medidores hay en el circuito BVI211? - [('1005203), ('1673164'), ('2028220')]\" -> Tu respuesta debe ser: \"Hay 3 medidores en el circuito BVI211. Son: 1005203, 2028220, 2028220\".\n",
    "                \"\"\"\n",
    "    ),\n",
    "    HumanMessage(\n",
    "        content=\"Pregunta: {input_str} \\n Consulta SQL: {query} \\n Resultado: {result}\"\n",
    "    )\n",
    "]\n",
    "\n",
    "out = llm.invoke(messages)\n",
    "\n",
    "res = {\n",
    "    \"model_res\": out,\n",
    "    \"query\": query,\n",
    "    \"result\": result\n",
    "}\n",
    "\n",
    "print(f\"\"\"\n",
    "Model response:\n",
    "    {res[\"model_res\"]}\n",
    "Result:\n",
    "    {res[\"result\"]}      \n",
    "\"\"\")\n"
   ]
  },
  {
   "cell_type": "code",
   "execution_count": 5,
   "metadata": {},
   "outputs": [
    {
     "ename": "ModuleNotFoundError",
     "evalue": "No module named 'llama_index.llms.ollama'",
     "output_type": "error",
     "traceback": [
      "\u001b[1;31m---------------------------------------------------------------------------\u001b[0m",
      "\u001b[1;31mModuleNotFoundError\u001b[0m                       Traceback (most recent call last)",
      "Cell \u001b[1;32mIn[5], line 4\u001b[0m\n\u001b[0;32m      2\u001b[0m load_dotenv()\n\u001b[0;32m      3\u001b[0m \u001b[38;5;28;01mfrom\u001b[39;00m \u001b[38;5;21;01mllama_index\u001b[39;00m\u001b[38;5;21;01m.\u001b[39;00m\u001b[38;5;21;01mcore\u001b[39;00m\u001b[38;5;21;01m.\u001b[39;00m\u001b[38;5;21;01magent\u001b[39;00m \u001b[38;5;28;01mimport\u001b[39;00m ReActAgent\n\u001b[1;32m----> 4\u001b[0m \u001b[38;5;28;01mfrom\u001b[39;00m \u001b[38;5;21;01mllama_index\u001b[39;00m\u001b[38;5;21;01m.\u001b[39;00m\u001b[38;5;21;01mllms\u001b[39;00m\u001b[38;5;21;01m.\u001b[39;00m\u001b[38;5;21;01mollama\u001b[39;00m \u001b[38;5;28;01mimport\u001b[39;00m Ollama\n\u001b[0;32m      5\u001b[0m \u001b[38;5;28;01mfrom\u001b[39;00m \u001b[38;5;21;01mllama_index\u001b[39;00m\u001b[38;5;21;01m.\u001b[39;00m\u001b[38;5;21;01mcore\u001b[39;00m\u001b[38;5;21;01m.\u001b[39;00m\u001b[38;5;21;01mtools\u001b[39;00m \u001b[38;5;28;01mimport\u001b[39;00m FunctionTool\n\u001b[0;32m      7\u001b[0m \u001b[38;5;28;01mdef\u001b[39;00m \u001b[38;5;21mmultiply\u001b[39m(a: \u001b[38;5;28mfloat\u001b[39m, b: \u001b[38;5;28mfloat\u001b[39m) \u001b[38;5;241m-\u001b[39m\u001b[38;5;241m>\u001b[39m \u001b[38;5;28mfloat\u001b[39m:\n",
      "\u001b[1;31mModuleNotFoundError\u001b[0m: No module named 'llama_index.llms.ollama'"
     ]
    }
   ],
   "source": [
    "from dotenv import load_dotenv\n",
    "load_dotenv()\n",
    "from llama_index.core.agent import ReActAgent\n",
    "from llama_index.llms.ollama import Ollama\n",
    "from llama_index.core.tools import FunctionTool\n",
    "\n",
    "def multiply(a: float, b: float) -> float:\n",
    "    \"\"\"Multiply two numbers and returns the product\"\"\"\n",
    "    return a * b\n",
    "\n",
    "multiply_tool = FunctionTool.from_defaults(fn=multiply)\n",
    "\n",
    "def add(a: float, b: float) -> float:\n",
    "    \"\"\"Add two numbers and returns the sum\"\"\"\n",
    "    return a + b\n",
    "\n",
    "add_tool = FunctionTool.from_defaults(fn=add)\n",
    "\n",
    "llm = Ollama(model=\"llama3.2:1b\", request_timeout=120.0)\n",
    "agent = ReActAgent.from_tools([multiply_tool, add_tool], llm=llm, verbose=True)\n",
    "\n",
    "response = agent.chat(\"What is 20+(2*4)? Calculate step by step.\")\n",
    "\n",
    "print(response)"
   ]
  },
  {
   "cell_type": "code",
   "execution_count": 6,
   "metadata": {},
   "outputs": [
    {
     "name": "stdout",
     "output_type": "stream",
     "text": [
      "Note: you may need to restart the kernel to use updated packages.\n"
     ]
    },
    {
     "name": "stderr",
     "output_type": "stream",
     "text": [
      "ERROR: Could not find a version that satisfies the requirement llama-index-integrations (from versions: none)\n",
      "ERROR: No matching distribution found for llama-index-integrations\n"
     ]
    }
   ],
   "source": [
    "%pip install llama-index-integrations"
   ]
  }
 ],
 "metadata": {
  "kernelspec": {
   "display_name": ".venv",
   "language": "python",
   "name": "python3"
  },
  "language_info": {
   "codemirror_mode": {
    "name": "ipython",
    "version": 3
   },
   "file_extension": ".py",
   "mimetype": "text/x-python",
   "name": "python",
   "nbconvert_exporter": "python",
   "pygments_lexer": "ipython3",
   "version": "3.12.5"
  }
 },
 "nbformat": 4,
 "nbformat_minor": 2
}
