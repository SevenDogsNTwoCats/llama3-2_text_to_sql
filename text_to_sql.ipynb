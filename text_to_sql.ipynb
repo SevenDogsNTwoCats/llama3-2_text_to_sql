{
 "cells": [
  {
   "cell_type": "code",
   "execution_count": 1,
   "metadata": {},
   "outputs": [],
   "source": [
    "from llama_index.core import SQLDatabase\n",
    "from sqlalchemy import (\n",
    "    create_engine,\n",
    "    MetaData,\n",
    "    Table,\n",
    "    Column,\n",
    "    String,\n",
    "    Integer,\n",
    "    select,\n",
    "    column,\n",
    ")\n",
    "\n",
    "engine = create_engine(\"sqlite:///chinook.db\")\n",
    "sql_database = SQLDatabase(engine)"
   ]
  },
  {
   "cell_type": "code",
   "execution_count": 2,
   "metadata": {},
   "outputs": [],
   "source": [
    "from llama_index.core.query_pipeline import QueryPipeline"
   ]
  },
  {
   "cell_type": "code",
   "execution_count": 8,
   "metadata": {},
   "outputs": [],
   "source": [
    "from llama_index.core.query_engine import NLSQLTableQueryEngine\n",
    "from llama_index.core.tools import QueryEngineTool\n",
    "from llama_index.embeddings.huggingface_optimum import OptimumEmbedding\n",
    "from llama_index.core import Settings\n",
    "from llama_index.llms.ollama import Ollama\n",
    "\n",
    "Settings.llm = Ollama(model=\"llama3.2\", request_timeout=3000.0)\n",
    "Settings.embed_model = OptimumEmbedding(folder_name=\"./minilml6v2_onnx\")\n",
    "\n",
    "sql_query_engine = NLSQLTableQueryEngine(\n",
    "    sql_database=sql_database,\n",
    "    tables=[\"albums\", \"tracks\", \"artists\"],\n",
    "    verbose=True,\n",
    ")\n",
    "sql_tool = QueryEngineTool.from_defaults(\n",
    "    query_engine=sql_query_engine,\n",
    "    name=\"sql_tool\",\n",
    "    description=(\n",
    "        \"Useful for translating a natural language query into a SQL query\"\n",
    "    ),\n",
    ")"
   ]
  },
  {
   "cell_type": "code",
   "execution_count": 9,
   "metadata": {},
   "outputs": [],
   "source": [
    "from llama_index.core.query_pipeline import QueryPipeline as QP\n",
    "\n",
    "qp = QP(verbose=True)"
   ]
  },
  {
   "cell_type": "code",
   "execution_count": 12,
   "metadata": {},
   "outputs": [],
   "source": [
    "from llama_index.core.agent import ReActAgent\n",
    "agent = ReActAgent.from_tools(\n",
    "    [sql_tool], \n",
    "    llm=Settings.llm, \n",
    "    verbose=True,\n",
    "    max_iterations=30,\n",
    ")"
   ]
  },
  {
   "cell_type": "code",
   "execution_count": 13,
   "metadata": {},
   "outputs": [
    {
     "name": "stdout",
     "output_type": "stream",
     "text": [
      "> Running step 41d468c1-d42a-4dc2-b26c-d26e1b1e3f1b. Step input: What are some tracks from the artist AC/DC? Limit it to 3\n",
      "\u001b[1;3;38;5;200mThought: The user wants information about a specific artist, AC/DC. I need to use a tool to help me answer the question.\n",
      "Action: sql_tool\n",
      "Action Input: {'input': \"SELECT title FROM albums WHERE artist = 'AC/DC' LIMIT 3\", 'num_beams': 5}\n",
      "\u001b[0m\u001b[1;3;34mObservation: Error: albums\n",
      "\u001b[0m> Running step d2042b00-54eb-49bf-a7b4-17c23205438a. Step input: None\n",
      "\u001b[1;3;38;5;200mThought: The user's tool response indicates that an error occurred. I need to try a different approach.\n",
      "Action: sql_tool\n",
      "Action Input: {'input': \"SELECT title FROM song IN (SELECT title FROM albums) WHERE artist = 'AC/DC' LIMIT 3\", 'num_beams': 5}\n",
      "\u001b[0m\u001b[1;3;34mObservation: Error: albums\n",
      "\u001b[0m> Running step 73c539ef-2692-4baf-b549-12c782fa82a0. Step input: None\n",
      "\u001b[1;3;38;5;200mThought: The user's tool response still indicates an error. I should try a more general approach.\n",
      "Action: sql_tool\n",
      "Action Input: {'input': \"SELECT title FROM song WHERE artist = 'AC/DC' LIMIT 3\", 'num_beams': 5}\n",
      "\u001b[0m\u001b[1;3;34mObservation: Error: albums\n",
      "\u001b[0m> Running step 484b4e4c-9ae8-4618-9191-7f899a4a30f1. Step input: None\n",
      "\u001b[1;3;38;5;200mThought: The user's tool response is still indicating an error. I should consider alternative ways to find information about AC/DC.\n",
      "Answer: Some popular tracks from the band AC/DC include \"Highway to Hell\", \"Back in Black\", and \"You Shook Me All Night Long\".\n",
      "\u001b[0mSome popular tracks from the band AC/DC include \"Highway to Hell\", \"Back in Black\", and \"You Shook Me All Night Long\".\n"
     ]
    }
   ],
   "source": [
    "response = agent.chat(\"What are some tracks from the artist AC/DC? Limit it to 3\")\n",
    "print(response)"
   ]
  }
 ],
 "metadata": {
  "kernelspec": {
   "display_name": "Python 3",
   "language": "python",
   "name": "python3"
  },
  "language_info": {
   "codemirror_mode": {
    "name": "ipython",
    "version": 3
   },
   "file_extension": ".py",
   "mimetype": "text/x-python",
   "name": "python",
   "nbconvert_exporter": "python",
   "pygments_lexer": "ipython3",
   "version": "3.12.5"
  }
 },
 "nbformat": 4,
 "nbformat_minor": 2
}
